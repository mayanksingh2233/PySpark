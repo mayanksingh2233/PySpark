{
 "cells": [
  {
   "cell_type": "markdown",
   "id": "dba8fc8a",
   "metadata": {},
   "source": [
    "# Simple linear regression"
   ]
  },
  {
   "cell_type": "code",
   "execution_count": 1,
   "id": "6cbcdbfb",
   "metadata": {},
   "outputs": [],
   "source": [
    "from pyspark.sql import SparkSession"
   ]
  },
  {
   "cell_type": "code",
   "execution_count": 2,
   "id": "8524e8e9",
   "metadata": {},
   "outputs": [],
   "source": [
    "spark=SparkSession.builder.appName('training').getOrCreate()"
   ]
  },
  {
   "cell_type": "code",
   "execution_count": 8,
   "id": "6057c8ca",
   "metadata": {},
   "outputs": [],
   "source": [
    "training=spark.read.csv('test.csv',header=True,inferSchema=True)"
   ]
  },
  {
   "cell_type": "code",
   "execution_count": 9,
   "id": "8ce9b6cb",
   "metadata": {},
   "outputs": [
    {
     "name": "stdout",
     "output_type": "stream",
     "text": [
      "+------+---+---------+------+\n",
      "|  Name|age|Expreince|salary|\n",
      "+------+---+---------+------+\n",
      "|Mayank| 20|        2| 10000|\n",
      "| vikki| 18|        1| 14000|\n",
      "| shyam| 22|        3| 12000|\n",
      "|   ram| 17|        8| 20000|\n",
      "|radhey| 24|        5| 25000|\n",
      "|  ramu| 18|        7| 20000|\n",
      "| karan| 30|       12| 32000|\n",
      "|  aman| 32|       14| 15000|\n",
      "+------+---+---------+------+\n",
      "\n"
     ]
    }
   ],
   "source": [
    "training.show()"
   ]
  },
  {
   "cell_type": "code",
   "execution_count": 12,
   "id": "c40c991a",
   "metadata": {},
   "outputs": [
    {
     "name": "stdout",
     "output_type": "stream",
     "text": [
      "root\n",
      " |-- Name: string (nullable = true)\n",
      " |-- age: integer (nullable = true)\n",
      " |-- Expreince: integer (nullable = true)\n",
      " |-- salary: integer (nullable = true)\n",
      "\n"
     ]
    }
   ],
   "source": [
    "training.printSchema()"
   ]
  },
  {
   "cell_type": "code",
   "execution_count": 13,
   "id": "1939a448",
   "metadata": {},
   "outputs": [
    {
     "data": {
      "text/plain": [
       "['Name', 'age', 'Expreince', 'salary']"
      ]
     },
     "execution_count": 13,
     "metadata": {},
     "output_type": "execute_result"
    }
   ],
   "source": [
    "training.columns"
   ]
  },
  {
   "cell_type": "code",
   "execution_count": 14,
   "id": "a0d613ce",
   "metadata": {},
   "outputs": [],
   "source": [
    "from pyspark.ml.feature import VectorAssembler"
   ]
  },
  {
   "cell_type": "code",
   "execution_count": 15,
   "id": "0d445207",
   "metadata": {},
   "outputs": [],
   "source": [
    "output=VectorAssembler(inputCols=['age','Expreince'],outputCol='independent feature')"
   ]
  },
  {
   "cell_type": "code",
   "execution_count": 16,
   "id": "d3c28a60",
   "metadata": {},
   "outputs": [],
   "source": [
    "output=output.transform(training)"
   ]
  },
  {
   "cell_type": "code",
   "execution_count": 17,
   "id": "c8029b64",
   "metadata": {},
   "outputs": [
    {
     "name": "stdout",
     "output_type": "stream",
     "text": [
      "+------+---+---------+------+-------------------+\n",
      "|  Name|age|Expreince|salary|independent feature|\n",
      "+------+---+---------+------+-------------------+\n",
      "|Mayank| 20|        2| 10000|         [20.0,2.0]|\n",
      "| vikki| 18|        1| 14000|         [18.0,1.0]|\n",
      "| shyam| 22|        3| 12000|         [22.0,3.0]|\n",
      "|   ram| 17|        8| 20000|         [17.0,8.0]|\n",
      "|radhey| 24|        5| 25000|         [24.0,5.0]|\n",
      "|  ramu| 18|        7| 20000|         [18.0,7.0]|\n",
      "| karan| 30|       12| 32000|        [30.0,12.0]|\n",
      "|  aman| 32|       14| 15000|        [32.0,14.0]|\n",
      "+------+---+---------+------+-------------------+\n",
      "\n"
     ]
    }
   ],
   "source": [
    "output.show()"
   ]
  },
  {
   "cell_type": "code",
   "execution_count": 18,
   "id": "f766c945",
   "metadata": {},
   "outputs": [],
   "source": [
    "finalized_data=output.select('independent feature','salary')"
   ]
  },
  {
   "cell_type": "code",
   "execution_count": 19,
   "id": "c0b84725",
   "metadata": {},
   "outputs": [
    {
     "name": "stdout",
     "output_type": "stream",
     "text": [
      "+-------------------+------+\n",
      "|independent feature|salary|\n",
      "+-------------------+------+\n",
      "|         [20.0,2.0]| 10000|\n",
      "|         [18.0,1.0]| 14000|\n",
      "|         [22.0,3.0]| 12000|\n",
      "|         [17.0,8.0]| 20000|\n",
      "|         [24.0,5.0]| 25000|\n",
      "|         [18.0,7.0]| 20000|\n",
      "|        [30.0,12.0]| 32000|\n",
      "|        [32.0,14.0]| 15000|\n",
      "+-------------------+------+\n",
      "\n"
     ]
    }
   ],
   "source": [
    "finalized_data.show()"
   ]
  },
  {
   "cell_type": "code",
   "execution_count": 22,
   "id": "c13923f8",
   "metadata": {},
   "outputs": [],
   "source": [
    "train_data,test_data=finalized_data.randomSplit([0.75,0.25])"
   ]
  },
  {
   "cell_type": "code",
   "execution_count": 23,
   "id": "99e06c99",
   "metadata": {},
   "outputs": [],
   "source": [
    "from pyspark.ml.regression import LinearRegression"
   ]
  },
  {
   "cell_type": "code",
   "execution_count": 24,
   "id": "92207527",
   "metadata": {},
   "outputs": [],
   "source": [
    "regressor=LinearRegression(featuresCol='independent feature',labelCol='salary')"
   ]
  },
  {
   "cell_type": "code",
   "execution_count": 25,
   "id": "80eeeeee",
   "metadata": {},
   "outputs": [],
   "source": [
    "regressor=regressor.fit(train_data)"
   ]
  },
  {
   "cell_type": "code",
   "execution_count": 26,
   "id": "6f947bb5",
   "metadata": {},
   "outputs": [],
   "source": [
    "pred_result=regressor.evaluate(test_data)"
   ]
  },
  {
   "cell_type": "code",
   "execution_count": 30,
   "id": "90195f34",
   "metadata": {},
   "outputs": [
    {
     "name": "stdout",
     "output_type": "stream",
     "text": [
      "+-------------------+------+------------------+\n",
      "|independent feature|salary|        prediction|\n",
      "+-------------------+------+------------------+\n",
      "|         [18.0,1.0]| 14000|19034.547004768367|\n",
      "|         [20.0,2.0]| 10000| 18561.18356648877|\n",
      "|        [30.0,12.0]| 32000|16748.255281523354|\n",
      "+-------------------+------+------------------+\n",
      "\n"
     ]
    }
   ],
   "source": [
    "pred_result.predictions.show()\n"
   ]
  },
  {
   "cell_type": "code",
   "execution_count": 31,
   "id": "a93e5837",
   "metadata": {},
   "outputs": [
    {
     "data": {
      "text/plain": [
       "9615.825096577928"
      ]
     },
     "execution_count": 31,
     "metadata": {},
     "output_type": "execute_result"
    }
   ],
   "source": [
    "pred_result.meanAbsoluteError"
   ]
  },
  {
   "cell_type": "code",
   "execution_count": 32,
   "id": "f7eb018d",
   "metadata": {},
   "outputs": [
    {
     "data": {
      "text/plain": [
       "110418748.18663992"
      ]
     },
     "execution_count": 32,
     "metadata": {},
     "output_type": "execute_result"
    }
   ],
   "source": [
    "pred_result.meanSquaredError"
   ]
  },
  {
   "cell_type": "code",
   "execution_count": 33,
   "id": "5e0e1090",
   "metadata": {},
   "outputs": [
    {
     "data": {
      "text/plain": [
       "DenseVector([-292.0706, 110.7778])"
      ]
     },
     "execution_count": 33,
     "metadata": {},
     "output_type": "execute_result"
    }
   ],
   "source": [
    "regressor.coefficients"
   ]
  },
  {
   "cell_type": "code",
   "execution_count": 34,
   "id": "3b8a369f",
   "metadata": {},
   "outputs": [
    {
     "data": {
      "text/plain": [
       "24181.040199576848"
      ]
     },
     "execution_count": 34,
     "metadata": {},
     "output_type": "execute_result"
    }
   ],
   "source": [
    "regressor.intercept"
   ]
  },
  {
   "cell_type": "code",
   "execution_count": null,
   "id": "fc0a9f1b",
   "metadata": {},
   "outputs": [],
   "source": []
  },
  {
   "cell_type": "code",
   "execution_count": null,
   "id": "64514fa2",
   "metadata": {},
   "outputs": [],
   "source": []
  },
  {
   "cell_type": "code",
   "execution_count": null,
   "id": "6e87c283",
   "metadata": {},
   "outputs": [],
   "source": []
  },
  {
   "cell_type": "code",
   "execution_count": null,
   "id": "039928c0",
   "metadata": {},
   "outputs": [],
   "source": []
  }
 ],
 "metadata": {
  "kernelspec": {
   "display_name": "Python 3",
   "language": "python",
   "name": "python3"
  },
  "language_info": {
   "codemirror_mode": {
    "name": "ipython",
    "version": 3
   },
   "file_extension": ".py",
   "mimetype": "text/x-python",
   "name": "python",
   "nbconvert_exporter": "python",
   "pygments_lexer": "ipython3",
   "version": "3.8.5"
  }
 },
 "nbformat": 4,
 "nbformat_minor": 5
}
